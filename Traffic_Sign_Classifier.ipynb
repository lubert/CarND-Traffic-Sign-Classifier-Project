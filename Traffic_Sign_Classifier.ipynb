{
 "cells": [
  {
   "cell_type": "markdown",
   "metadata": {},
   "source": [
    "# Self-Driving Car Engineer Nanodegree\n",
    "\n",
    "## Deep Learning\n",
    "\n",
    "## Project: Build a Traffic Sign Recognition Classifier\n",
    "\n",
    "In this notebook, a template is provided for you to implement your functionality in stages, which is required to successfully complete this project. If additional code is required that cannot be included in the notebook, be sure that the Python code is successfully imported and included in your submission if necessary. \n",
    "\n",
    "> **Note**: Once you have completed all of the code implementations, you need to finalize your work by exporting the iPython Notebook as an HTML document. Before exporting the notebook to html, all of the code cells need to have been run so that reviewers can see the final implementation and output. You can then export the notebook by using the menu above and navigating to  \\n\",\n",
    "    \"**File -> Download as -> HTML (.html)**. Include the finished document along with this notebook as your submission. \n",
    "\n",
    "In addition to implementing code, there is a writeup to complete. The writeup should be completed in a separate file, which can be either a markdown file or a pdf document. There is a [write up template](https://github.com/udacity/CarND-Traffic-Sign-Classifier-Project/blob/master/writeup_template.md) that can be used to guide the writing process. Completing the code template and writeup template will cover all of the [rubric points](https://review.udacity.com/#!/rubrics/481/view) for this project.\n",
    "\n",
    "The [rubric](https://review.udacity.com/#!/rubrics/481/view) contains \"Stand Out Suggestions\" for enhancing the project beyond the minimum requirements. The stand out suggestions are optional. If you decide to pursue the \"stand out suggestions\", you can include the code in this Ipython notebook and also discuss the results in the writeup file.\n",
    "\n",
    "\n",
    ">**Note:** Code and Markdown cells can be executed using the **Shift + Enter** keyboard shortcut. In addition, Markdown cells can be edited by typically double-clicking the cell to enter edit mode."
   ]
  },
  {
   "cell_type": "markdown",
   "metadata": {},
   "source": [
    "---\n",
    "## Step 0: Load The Data"
   ]
  },
  {
   "cell_type": "markdown",
   "metadata": {},
   "source": [
    "### Download and extract the data, only needs to be done once"
   ]
  },
  {
   "cell_type": "code",
   "execution_count": 5,
   "metadata": {},
   "outputs": [],
   "source": [
    "import requests\n",
    "from zipfile import ZipFile\n",
    "\n",
    "def download_data():\n",
    "    \"\"\"\n",
    "    Download and extract the training data.\n",
    "    Only needs to be run once per workspace.\n",
    "    \"\"\"\n",
    "    # Download the file\n",
    "    zipurl = 'https://s3-us-west-1.amazonaws.com/udacity-selfdrivingcar/traffic-signs-data.zip'\n",
    "    resp = requests.get(zipurl)\n",
    "\n",
    "    zname = \"traffic-signs-data.zip\"\n",
    "    zfile = open(zname, 'wb')\n",
    "    zfile.write(resp.content)\n",
    "    zfile.close()\n",
    "\n",
    "    # Extract contents to the same directory\n",
    "    zfile = ZipFile(zname, 'r')\n",
    "    zfile.extractall('.')\n",
    "    zfile.close()\n",
    "    \n",
    "# download_data()"
   ]
  },
  {
   "cell_type": "markdown",
   "metadata": {},
   "source": [
    "### Load the pickled data"
   ]
  },
  {
   "cell_type": "code",
   "execution_count": 3,
   "metadata": {},
   "outputs": [],
   "source": [
    "import pickle\n",
    "\n",
    "training_file = 'train.p'\n",
    "validation_file= 'valid.p'\n",
    "testing_file = 'test.p'\n",
    "\n",
    "train, valid, test = None, None, None\n",
    "X_train, y_train = None, None\n",
    "X_valid, y_valid = None, None\n",
    "X_test, y_test = None, None\n",
    "\n",
    "def load_data():\n",
    "    \"\"\"\n",
    "    Load the pickled data\n",
    "    \"\"\"\n",
    "    global train, valid, test, X_train, y_train, X_valid, y_valid, X_test, y_test\n",
    "    with open(training_file, mode='rb') as f:\n",
    "        train = pickle.load(f)\n",
    "    with open(validation_file, mode='rb') as f:\n",
    "        valid = pickle.load(f)\n",
    "    with open(testing_file, mode='rb') as f:\n",
    "        test = pickle.load(f)\n",
    "\n",
    "    X_train, y_train = train['features'], train['labels']\n",
    "    X_valid, y_valid = valid['features'], valid['labels']\n",
    "    X_test, y_test = test['features'], test['labels']"
   ]
  },
  {
   "cell_type": "markdown",
   "metadata": {},
   "source": [
    "---\n",
    "\n",
    "## Step 1: Dataset Summary & Exploration\n",
    "\n",
    "The pickled data is a dictionary with 4 key/value pairs:\n",
    "\n",
    "- `'features'` is a 4D array containing raw pixel data of the traffic sign images, (num examples, width, height, channels).\n",
    "- `'labels'` is a 1D array containing the label/class id of the traffic sign. The file `signnames.csv` contains id -> name mappings for each id.\n",
    "- `'sizes'` is a list containing tuples, (width, height) representing the original width and height the image.\n",
    "- `'coords'` is a list containing tuples, (x1, y1, x2, y2) representing coordinates of a bounding box around the sign in the image. **THESE COORDINATES ASSUME THE ORIGINAL IMAGE. THE PICKLED DATA CONTAINS RESIZED VERSIONS (32 by 32) OF THESE IMAGES**\n",
    "\n",
    "Complete the basic data summary below. Use python, numpy and/or pandas methods to calculate the data summary rather than hard coding the results. For example, the [pandas shape method](http://pandas.pydata.org/pandas-docs/stable/generated/pandas.DataFrame.shape.html) might be useful for calculating some of the summary results. "
   ]
  },
  {
   "cell_type": "markdown",
   "metadata": {},
   "source": [
    "### Provide a Basic Summary of the Data Set Using Python, Numpy and/or Pandas"
   ]
  },
  {
   "cell_type": "markdown",
   "metadata": {},
   "source": [
    "### Include an exploratory visualization of the dataset"
   ]
  },
  {
   "cell_type": "markdown",
   "metadata": {},
   "source": [
    "Visualize the German Traffic Signs Dataset using the pickled file(s). This is open ended, suggestions include: plotting traffic sign images, plotting the count of each sign, etc. \n",
    "\n",
    "The [Matplotlib](http://matplotlib.org/) [examples](http://matplotlib.org/examples/index.html) and [gallery](http://matplotlib.org/gallery.html) pages are a great resource for doing visualizations in Python.\n",
    "\n",
    "**NOTE:** It's recommended you start with something simple first. If you wish to do more, come back to it after you've completed the rest of the sections. It can be interesting to look at the distribution of classes in the training, validation and test set. Is the distribution the same? Are there more examples of some classes than others?"
   ]
  },
  {
   "cell_type": "code",
   "execution_count": 5,
   "metadata": {},
   "outputs": [
    {
     "name": "stdout",
     "output_type": "stream",
     "text": [
      "Number of training examples = 34799\n",
      "Number of validation examples = 4410\n",
      "Number of testing examples = 12630\n",
      "Image data shape = (32, 32, 3)\n",
      "Number of classes = 43\n"
     ]
    },
    {
     "data": {
      "image/png": "[encoded data removed]",
      "text/plain": [
       "<matplotlib.figure.Figure at 0x7fdf26ca7470>"
      ]
     },
     "metadata": {},
     "output_type": "display_data"
    },
    {
     "data": {
      "image/png": "[encoded data removed]",
      "text/plain": [
       "<matplotlib.figure.Figure at 0x7fdf26c795c0>"
      ]
     },
     "metadata": {},
     "output_type": "display_data"
    }
   ],
   "source": [
    "import csv\n",
    "import numpy as np\n",
    "import matplotlib.pyplot as plt\n",
    "import random\n",
    "%matplotlib inline\n",
    "\n",
    "# Load the signnames and create a dict\n",
    "sign_dict = {}\n",
    "with open('signnames.csv') as csvfile:\n",
    "    spamreader = csv.reader(csvfile)\n",
    "    for i, row in enumerate(spamreader):\n",
    "        if i == 0:\n",
    "            continue\n",
    "        sign_dict[row[0]] = row[1]\n",
    "        \n",
    "\n",
    "def plot_histogram(data, bins):\n",
    "    \"\"\"\n",
    "    Plot a histogram\n",
    "    \"\"\"\n",
    "    fig, ax = plt.subplots()\n",
    "    ax.hist(data, bins=bins)\n",
    "    plt.title('Data distribution')\n",
    "    \n",
    "    \n",
    "def plot_image(x, cmap=None, title=None):\n",
    "    if x.shape[-1] == 1:\n",
    "        cmap = 'gray'\n",
    "    plt.figure(figsize=(1,1))\n",
    "    plt.imshow(x.squeeze(), cmap=cmap)\n",
    "    plt.axis('off')\n",
    "    if title:\n",
    "        plt.title(title)\n",
    "\n",
    "    \n",
    "def plot_random(X, y):\n",
    "    \"\"\"\n",
    "    Plot a random training example\n",
    "    \"\"\"\n",
    "    index = random.randint(0, len(X_train))\n",
    "    image = X[index]\n",
    "\n",
    "    cmap = None\n",
    "    plot_image(image, title='{0}: {1}'.format(y[index], sign_dict[str(y[index])]))\n",
    "    \n",
    "    \n",
    "def get_samples(bin):\n",
    "    \"\"\"\n",
    "    Returns all the training examples for a given class\n",
    "    \"\"\"\n",
    "    global X_train, y_train\n",
    "    indices = np.where(y_train == bin)\n",
    "    n_samples = len(indices[0])\n",
    "    count = n_samples\n",
    "    return np.take(X_train, indices[0], axis=0)\n",
    "    \n",
    "    \n",
    "def print_summary():\n",
    "    \"\"\"\n",
    "    Print a summary of the training data\n",
    "    \"\"\"\n",
    "    # Number of training examples\n",
    "    n_train = len(X_train)\n",
    "\n",
    "    # Number of validation examples\n",
    "    n_validation = len(X_valid)\n",
    "\n",
    "    # Number of testing examples.\n",
    "    n_test = len(X_test)\n",
    "\n",
    "    # What's the shape of an traffic sign image?\n",
    "    image_shape = X_train[0].shape\n",
    "\n",
    "    # How many unique classes/labels there are in the dataset.\n",
    "    n_classes = len(np.unique(y_train))\n",
    "\n",
    "    print(\"Number of training examples =\", n_train)\n",
    "    print(\"Number of validation examples =\", n_validation)\n",
    "    print(\"Number of testing examples =\", n_test)\n",
    "    print(\"Image data shape =\", image_shape)\n",
    "    print(\"Number of classes =\", n_classes)\n",
    "    \n",
    "    plot_histogram(y_train, n_classes)\n",
    "    plot_random(X_train, y_train)\n",
    "    \n",
    "load_data()\n",
    "print_summary()"
   ]
  },
  {
   "cell_type": "markdown",
   "metadata": {},
   "source": [
    "----\n",
    "\n",
    "## Step 2: Design and Test a Model Architecture\n",
    "\n",
    "Design and implement a deep learning model that learns to recognize traffic signs. Train and test your model on the [German Traffic Sign Dataset](http://benchmark.ini.rub.de/?section=gtsrb&subsection=dataset).\n",
    "\n",
    "The LeNet-5 implementation shown in the [classroom](https://classroom.udacity.com/nanodegrees/nd013/parts/fbf77062-5703-404e-b60c-95b78b2f3f9e/modules/6df7ae49-c61c-4bb2-a23e-6527e69209ec/lessons/601ae704-1035-4287-8b11-e2c2716217ad/concepts/d4aca031-508f-4e0b-b493-e7b706120f81) at the end of the CNN lesson is a solid starting point. You'll have to change the number of classes and possibly the preprocessing, but aside from that it's plug and play! \n",
    "\n",
    "With the LeNet-5 solution from the lecture, you should expect a validation set accuracy of about 0.89. To meet specifications, the validation set accuracy will need to be at least 0.93. It is possible to get an even higher accuracy, but 0.93 is the minimum for a successful project submission. \n",
    "\n",
    "There are various aspects to consider when thinking about this problem:\n",
    "\n",
    "- Neural network architecture (is the network over or underfitting?)\n",
    "- Play around preprocessing techniques (normalization, rgb to grayscale, etc)\n",
    "- Number of examples per label (some have more than others).\n",
    "- Generate fake data.\n",
    "\n",
    "Here is an example of a [published baseline model on this problem](http://yann.lecun.com/exdb/publis/pdf/sermanet-ijcnn-11.pdf). It's not required to be familiar with the approach used in the paper but, it's good practice to try to read papers like these."
   ]
  },
  {
   "cell_type": "markdown",
   "metadata": {},
   "source": [
    "### Pre-process the Data Set (normalization, grayscale, etc.)"
   ]
  },
  {
   "cell_type": "markdown",
   "metadata": {},
   "source": [
    "Minimally, the image data should be normalized so that the data has mean zero and equal variance. For image data, `(pixel - 128)/ 128` is a quick way to approximately normalize the data and can be used in this project. \n",
    "\n",
    "Other pre-processing steps are optional. You can try different techniques to see if it improves performance. \n",
    "\n",
    "Use the code cell (or multiple code cells, if necessary) to implement the first step of your project."
   ]
  },
  {
   "cell_type": "markdown",
   "metadata": {},
   "source": [
    "### Data augmentation\n",
    "\n",
    "Some of the classes had considerably fewer training examples than others, so I used a few image augmentation techniques to increase the training examples. This took quite a long time to run (~30 min), so I pickled the augmented training set to use for later."
   ]
  },
  {
   "cell_type": "code",
   "execution_count": 45,
   "metadata": {},
   "outputs": [],
   "source": [
    "import cv2 as cv \n",
    "\n",
    "def random_scale(img):\n",
    "    \"\"\"\n",
    "    Randomly scale and crop an image\n",
    "    \"\"\"\n",
    "    scale = np.random.uniform(1.1, 1.3)\n",
    "    scaled = cv.resize(img, None, fx=scale, fy=scale, interpolation = cv.INTER_CUBIC)\n",
    "    dim = img.shape[0]\n",
    "    start = scaled.shape[0]//2 - (dim//2)\n",
    "    return scaled[start:start + dim, start:start + dim]\n",
    "\n",
    "\n",
    "def random_translate(img, max_t=5):\n",
    "    \"\"\"\n",
    "    Randomly translate an image\n",
    "    \"\"\"\n",
    "    dim = img.shape[0]\n",
    "    h_t = np.random.uniform(-max_t, max_t)\n",
    "    v_t = np.random.uniform(-max_t, max_t)\n",
    "    M = np.float32([[1, 0, h_t],[0, 1, v_t]])\n",
    "    return cv.warpAffine(img, M, (dim, dim))\n",
    "\n",
    "\n",
    "def random_brightness(img, value=50):\n",
    "    \"\"\"\n",
    "    Randomly increase the brightness of an image\n",
    "    \"\"\"\n",
    "    hsv = cv.cvtColor(img, cv.COLOR_BGR2HSV)\n",
    "    h, s, v = cv.split(hsv)\n",
    "\n",
    "    lim = 255 - value\n",
    "    v[v > lim] = 255\n",
    "    v[v <= lim] += value\n",
    "\n",
    "    final_hsv = cv.merge((h, s, v))\n",
    "    return cv.cvtColor(final_hsv, cv.COLOR_HSV2BGR)\n",
    "\n",
    "\n",
    "def augmentation_pipeline():\n",
    "    \"\"\"\n",
    "    Loops through \n",
    "    \"\"\"\n",
    "    global X_train, y_train\n",
    "    threshold = 800\n",
    "    bins = np.unique(y_train)\n",
    "    for bin in bins:\n",
    "        indices = np.where(y_train == bin)\n",
    "        n_samples = len(indices[0])\n",
    "        print('{0} has {1} examples'.format(bin, n_samples))\n",
    "        count = n_samples\n",
    "        samples = np.take(X_train, indices[0], axis=0)\n",
    "        if (count < threshold):\n",
    "            print('Augmenting {0} to {1}...'.format(count, threshold))\n",
    "        while count < threshold:\n",
    "            i = np.random.randint(0, len(samples))\n",
    "            img = samples[i]\n",
    "            processed = random_brightness(random_translate(random_scale(img)))\n",
    "            X_train = np.concatenate((X_train, [processed]), axis=0)\n",
    "            y_train = np.concatenate((y_train, [bin]))\n",
    "            count += 1"
   ]
  },
  {
   "cell_type": "markdown",
   "metadata": {},
   "source": [
    "### Test the augmentation functions"
   ]
  },
  {
   "cell_type": "code",
   "execution_count": 46,
   "metadata": {},
   "outputs": [
    {
     "data": {
      "image/png": "[encoded data removed]",
      "text/plain": [
       "<matplotlib.figure.Figure at 0x7fb9dda1f5c0>"
      ]
     },
     "metadata": {},
     "output_type": "display_data"
    },
    {
     "data": {
      "image/png": "[encoded data removed]",
      "text/plain": [
       "<matplotlib.figure.Figure at 0x7fb9dda1ff28>"
      ]
     },
     "metadata": {},
     "output_type": "display_data"
    },
    {
     "data": {
      "image/png": "[encoded data removed]",
      "text/plain": [
       "<matplotlib.figure.Figure at 0x7fb9dda1f7f0>"
      ]
     },
     "metadata": {},
     "output_type": "display_data"
    },
    {
     "data": {
      "image/png": "[encoded data removed]",
      "text/plain": [
       "<matplotlib.figure.Figure at 0x7fb9b5997358>"
      ]
     },
     "metadata": {},
     "output_type": "display_data"
    }
   ],
   "source": [
    "r_index = np.random.randint(0, len(X_train))\n",
    "img = X_train[r_index]\n",
    "\n",
    "plot_image(img, title='Original')\n",
    "\n",
    "s = random_scale(img)\n",
    "plot_image(s, title='Scaled')\n",
    "\n",
    "t = random_translate(img)\n",
    "plot_image(t, title='Translated')\n",
    "\n",
    "b = random_brightness(img)\n",
    "plot_image(b, title='Brightness')"
   ]
  },
  {
   "cell_type": "markdown",
   "metadata": {},
   "source": [
    "### Reload and augment the data"
   ]
  },
  {
   "cell_type": "code",
   "execution_count": 1,
   "metadata": {},
   "outputs": [],
   "source": [
    "def save_aug():\n",
    "    train = {\n",
    "        \"features\": X_train,\n",
    "        \"labels\": y_train\n",
    "    }\n",
    "\n",
    "    pickle.dump(train, open(\"augmented.p\", \"wb\"))\n",
    "\n",
    "def load_aug():\n",
    "    global train, X_train, y_train\n",
    "    with open(\"augmented.p\", mode='rb') as f:\n",
    "        train = pickle.load(f)\n",
    "\n",
    "    X_train, y_train = train['features'], train['labels']"
   ]
  },
  {
   "cell_type": "code",
   "execution_count": 47,
   "metadata": {},
   "outputs": [
    {
     "name": "stdout",
     "output_type": "stream",
     "text": [
      "0 has 180 examples\n",
      "Augmenting 180 to 800...\n",
      "1 has 1980 examples\n",
      "2 has 2010 examples\n",
      "3 has 1260 examples\n",
      "4 has 1770 examples\n",
      "5 has 1650 examples\n",
      "6 has 360 examples\n",
      "Augmenting 360 to 800...\n",
      "7 has 1290 examples\n",
      "8 has 1260 examples\n",
      "9 has 1320 examples\n",
      "10 has 1800 examples\n",
      "11 has 1170 examples\n",
      "12 has 1890 examples\n",
      "13 has 1920 examples\n",
      "14 has 690 examples\n",
      "Augmenting 690 to 800...\n",
      "15 has 540 examples\n",
      "Augmenting 540 to 800...\n",
      "16 has 360 examples\n",
      "Augmenting 360 to 800...\n",
      "17 has 990 examples\n",
      "18 has 1080 examples\n",
      "19 has 180 examples\n",
      "Augmenting 180 to 800...\n",
      "20 has 300 examples\n",
      "Augmenting 300 to 800...\n",
      "21 has 270 examples\n",
      "Augmenting 270 to 800...\n",
      "22 has 330 examples\n",
      "Augmenting 330 to 800...\n",
      "23 has 450 examples\n",
      "Augmenting 450 to 800...\n",
      "24 has 240 examples\n",
      "Augmenting 240 to 800...\n",
      "25 has 1350 examples\n",
      "26 has 540 examples\n",
      "Augmenting 540 to 800...\n",
      "27 has 210 examples\n",
      "Augmenting 210 to 800...\n",
      "28 has 480 examples\n",
      "Augmenting 480 to 800...\n",
      "29 has 240 examples\n",
      "Augmenting 240 to 800...\n",
      "30 has 390 examples\n",
      "Augmenting 390 to 800...\n",
      "31 has 690 examples\n",
      "Augmenting 690 to 800...\n",
      "32 has 210 examples\n",
      "Augmenting 210 to 800...\n",
      "33 has 599 examples\n",
      "Augmenting 599 to 800...\n",
      "34 has 360 examples\n",
      "Augmenting 360 to 800...\n",
      "35 has 1080 examples\n",
      "36 has 330 examples\n",
      "Augmenting 330 to 800...\n",
      "37 has 180 examples\n",
      "Augmenting 180 to 800...\n",
      "38 has 1860 examples\n",
      "39 has 270 examples\n",
      "Augmenting 270 to 800...\n",
      "40 has 300 examples\n",
      "Augmenting 300 to 800...\n",
      "41 has 210 examples\n",
      "Augmenting 210 to 800...\n",
      "42 has 210 examples\n",
      "Augmenting 210 to 800...\n",
      "Number of training examples = 46480\n",
      "Number of validation examples = 4410\n",
      "Number of testing examples = 12630\n",
      "Image data shape = (32, 32, 3)\n",
      "Number of classes = 43\n"
     ]
    },
    {
     "data": {
      "image/png": "[encoded data removed]",
      "text/plain": [
       "<matplotlib.figure.Figure at 0x7fb9b59a8828>"
      ]
     },
     "metadata": {},
     "output_type": "display_data"
    },
    {
     "data": {
      "image/png": "[encoded data removed]",
      "text/plain": [
       "<matplotlib.figure.Figure at 0x7fb9a810fd30>"
      ]
     },
     "metadata": {},
     "output_type": "display_data"
    }
   ],
   "source": [
    "load_data()\n",
    "augmentation_pipeline()\n",
    "save_aug()\n",
    "print_summary()"
   ]
  },
  {
   "cell_type": "code",
   "execution_count": 6,
   "metadata": {},
   "outputs": [
    {
     "name": "stdout",
     "output_type": "stream",
     "text": [
      "Number of training examples = 46480\n",
      "Number of validation examples = 4410\n",
      "Number of testing examples = 12630\n",
      "Image data shape = (32, 32, 3)\n",
      "Number of classes = 43\n"
     ]
    },
    {
     "data": {
      "image/png": "[encoded data removed]",
      "text/plain": [
       "<matplotlib.figure.Figure at 0x7fdf38117d30>"
      ]
     },
     "metadata": {},
     "output_type": "display_data"
    },
    {
     "data": {
      "image/png": "[encoded data removed]",
      "text/plain": [
       "<matplotlib.figure.Figure at 0x7fdf26ac4438>"
      ]
     },
     "metadata": {},
     "output_type": "display_data"
    }
   ],
   "source": [
    "load_aug()\n",
    "print_summary()"
   ]
  },
  {
   "cell_type": "markdown",
   "metadata": {},
   "source": [
    "### Preprocess data\n",
    "\n",
    "I converted the images to grayscale, and then normalized the values"
   ]
  },
  {
   "cell_type": "code",
   "execution_count": 7,
   "metadata": {},
   "outputs": [],
   "source": [
    "import numpy as np\n",
    "\n",
    "def normalize(x):\n",
    "    \"\"\"\n",
    "    Normalizes image from 0 to 255 to -1 to 1\n",
    "    \"\"\"\n",
    "    return (x - 128.0) / 128\n",
    "\n",
    "\n",
    "def add_dim(x):\n",
    "    \"\"\"\n",
    "    Helper to add a dimension, i.e. turn a 32x32 into a 32x32x1\n",
    "    \"\"\"\n",
    "    return x.reshape(x.shape + (1,))\n",
    "\n",
    "\n",
    "def gray(x):\n",
    "    \"\"\"\n",
    "    Converts image to grayscale\n",
    "    \"\"\"\n",
    "    return add_dim(np.dot(x[...,:3], [0.299, 0.587, 0.114]))\n",
    "\n",
    "\n",
    "def preprocess(x):\n",
    "    return normalize(gray(x))"
   ]
  },
  {
   "cell_type": "code",
   "execution_count": 8,
   "metadata": {},
   "outputs": [
    {
     "data": {
      "image/png": "[encoded data removed]",
      "text/plain": [
       "<matplotlib.figure.Figure at 0x7fdf38147e48>"
      ]
     },
     "metadata": {},
     "output_type": "display_data"
    },
    {
     "data": {
      "image/png": "[encoded data removed]",
      "text/plain": [
       "<matplotlib.figure.Figure at 0x7fdf38147240>"
      ]
     },
     "metadata": {},
     "output_type": "display_data"
    }
   ],
   "source": [
    "r_index = np.random.randint(0, len(X_train))\n",
    "img = X_train[r_index]\n",
    "\n",
    "plot_image(img, title='Original')\n",
    "\n",
    "s = gray(img)\n",
    "plot_image(s, title='Gray')"
   ]
  },
  {
   "cell_type": "code",
   "execution_count": 9,
   "metadata": {},
   "outputs": [],
   "source": [
    "X_train = preprocess(X_train)\n",
    "X_valid = preprocess(X_valid)\n",
    "X_test = preprocess(X_test)"
   ]
  },
  {
   "cell_type": "markdown",
   "metadata": {},
   "source": [
    "### Model Architecture"
   ]
  },
  {
   "cell_type": "markdown",
   "metadata": {},
   "source": [
    "### LeNet\n",
    "\n",
    "Since I converted all of the images to greyscale, the LeNet architecture worked essentially as-is, and I only had to change the last layer to output 43 classes instead of 10. Without augmenting the dataset, the model was achieving getting around ~91% accuracy, though when using the augmented data set, it increased to just under ~93% on the validation set."
   ]
  },
  {
   "cell_type": "code",
   "execution_count": 37,
   "metadata": {},
   "outputs": [],
   "source": [
    "from tensorflow.contrib.layers import flatten\n",
    "\n",
    "def LeNet(x):    \n",
    "    # Arguments used for tf.truncated_normal, randomly defines variables for the weights and biases for each layer\n",
    "    mu = 0\n",
    "    sigma = 0.1\n",
    "    \n",
    "    # Layer 1: Convolutional. Input = 32x32x1. Output = 28x28x6.\n",
    "    w1 = tf.Variable(tf.truncated_normal([5, 5, 1, 6], mean=mu, stddev=sigma))\n",
    "    b1 = tf.Variable(tf.zeros(6))\n",
    "    conv1 = tf.nn.conv2d(x, w1, strides=[1,1,1,1], padding='VALID')\n",
    "    conv1 = tf.nn.bias_add(conv1, b1)\n",
    "    # Activation.\n",
    "    conv1 = tf.nn.relu(conv1)\n",
    "    # Pooling. Input = 28x28x6. Output = 14x14x6.\n",
    "    conv1 = tf.nn.max_pool(conv1, ksize=[1,2,2,1], strides=[1,2,2,1], padding='VALID')\n",
    "    # Layer 2: Convolutional. Output = 10x10x16.\n",
    "    w2 = tf.Variable(tf.truncated_normal([5, 5, 6, 16], mean=mu, stddev=sigma))\n",
    "    b2 = tf.Variable(tf.zeros(16))\n",
    "    conv2 = tf.nn.conv2d(conv1, w2, strides=[1,1,1,1], padding='VALID')\n",
    "    conv2 = tf.nn.bias_add(conv2, b2)\n",
    "    # Activation\n",
    "    conv2 = tf.nn.relu(conv2)\n",
    "    # Pooling. Input = 10x10x16. Output = 5x5x16.\n",
    "    conv2 = tf.nn.max_pool(conv2, ksize=[1,2,2,1], strides=[1,2,2,1], padding='VALID')\n",
    "    # Flatten. Input = 5x5x16. Output = 400.\n",
    "    conv2 = flatten(conv2)\n",
    "    # Layer 3: Fully Connected. Input = 400. Output = 120.\n",
    "    # Fully Connected = AKA matrix multiplication\n",
    "    w3 = tf.Variable(tf.truncated_normal([400, 120], mean=mu, stddev=sigma))\n",
    "    b3 = tf.Variable(tf.zeros(120))\n",
    "    fc3 = tf.matmul(conv2, w3)\n",
    "    fc3 = tf.nn.bias_add(fc3, b3)\n",
    "    # Activation.\n",
    "    fc3 = tf.nn.relu(fc3)\n",
    "    # Layer 4: Fully Connected. Input = 120. Output = 84.\n",
    "    w4 = tf.Variable(tf.truncated_normal([120, 84], mean=mu, stddev=sigma))\n",
    "    b4 = tf.Variable(tf.zeros(84))\n",
    "    fc4 = tf.matmul(fc3, w4)\n",
    "    fc4 = tf.nn.bias_add(fc4, b4)  \n",
    "    # Activation\n",
    "    fc4 = tf.nn.relu(fc4)\n",
    "    # Layer 5: Fully Connected. Input = 84. Output = 43.\n",
    "    w5 = tf.Variable(tf.truncated_normal([84, 43], mean=mu, stddev=sigma))\n",
    "    b5 = tf.Variable(tf.zeros(43))\n",
    "    fc5 = tf.matmul(fc4, w5)\n",
    "    fc5 = tf.nn.bias_add(fc5, b5)\n",
    "    return fc5"
   ]
  },
  {
   "cell_type": "markdown",
   "metadata": {},
   "source": [
    "### Sermanet\n",
    "I took a stab at implementing the [Sermanet](http://yann.lecun.com/exdb/publis/pdf/sermanet-ijcnn-11.pdf) architecture by adding an extra convolution layer and using just one fully connected layer. At first, the performance was actually worse than the LeNet architecture, achieving only a ~90% validation accuracy, though after adding a dropout to the merged layer, the accuracy increased to ~94%."
   ]
  },
  {
   "cell_type": "code",
   "execution_count": 62,
   "metadata": {},
   "outputs": [],
   "source": [
    "import tensorflow as tf\n",
    "from tensorflow.contrib.layers import flatten\n",
    "\n",
    "def Sortanet(x):    \n",
    "    # Arguments used for tf.truncated_normal, randomly defines variables for the weights and biases for each layer\n",
    "    mu = 0\n",
    "    sigma = 0.1\n",
    "    \n",
    "    # Layer 1: Convolutional. Input = 32x32x1. Output = 28x28x6.\n",
    "    w1 = tf.Variable(tf.truncated_normal([5, 5, 1, 6], mean=mu, stddev=sigma))\n",
    "    b1 = tf.Variable(tf.zeros(6))\n",
    "    conv1 = tf.nn.conv2d(x, w1, strides=[1,1,1,1], padding='VALID')\n",
    "    conv1 = tf.nn.bias_add(conv1, b1)\n",
    "    # Activation.\n",
    "    conv1 = tf.nn.relu(conv1)\n",
    "    # Pooling. Input = 28x28x6. Output = 14x14x6.\n",
    "    conv1 = tf.nn.max_pool(conv1, ksize=[1,2,2,1], strides=[1,2,2,1], padding='VALID')\n",
    "    # Layer 2: Convolutional. Output = 10x10x16.\n",
    "    w2 = tf.Variable(tf.truncated_normal([5, 5, 6, 16], mean=mu, stddev=sigma))\n",
    "    b2 = tf.Variable(tf.zeros(16))\n",
    "    conv2 = tf.nn.conv2d(conv1, w2, strides=[1,1,1,1], padding='VALID')\n",
    "    conv2 = tf.nn.bias_add(conv2, b2)\n",
    "    # Activation\n",
    "    conv2 = tf.nn.relu(conv2)\n",
    "    # Pooling. Input = 10x10x16. Output = 5x5x16.\n",
    "    conv2 = tf.nn.max_pool(conv2, ksize=[1,2,2,1], strides=[1,2,2,1], padding='VALID')\n",
    "    # Flatten. Input = 5x5x16. Output = 400.\n",
    "    flat1 = flatten(conv2)\n",
    "    # Layer 3: Convolutional. Output = 2x2x100\n",
    "    w3 = tf.Variable(tf.truncated_normal([4, 4, 16, 100], mean=mu, stddev=sigma))\n",
    "    b3 = tf.Variable(tf.zeros(100))\n",
    "    conv3 = tf.nn.conv2d(conv2, w3, strides=[1,1,1,1], padding='VALID')\n",
    "    conv3 = tf.nn.bias_add(conv3, b3)\n",
    "    # Activation\n",
    "    conv3 = tf.nn.relu(conv3)\n",
    "    # Flatten. Input = 2x2x100. Output = 400.\n",
    "    flat2 = flatten(conv3)\n",
    "    # Merge the flattened layers\n",
    "    merged = tf.concat([flat1, flat2], axis=1)\n",
    "    # Dropout\n",
    "    merged = tf.nn.dropout(merged, keep_prob)\n",
    "    # Layer 4: Fully Connected. Input = 800. Output = 43.\n",
    "    w4 = tf.Variable(tf.truncated_normal([800, 43], mean=mu, stddev=sigma))\n",
    "    b4 = tf.Variable(tf.zeros(43))\n",
    "    fc4 = tf.matmul(merged, w4)\n",
    "    fc4 = tf.nn.bias_add(fc4, b4)  \n",
    "    return fc4"
   ]
  },
  {
   "cell_type": "markdown",
   "metadata": {},
   "source": [
    "### Train, Validate and Test the Model"
   ]
  },
  {
   "cell_type": "markdown",
   "metadata": {},
   "source": [
    "A validation set can be used to assess how well the model is performing. A low accuracy on the training and validation\n",
    "sets imply underfitting. A high accuracy on the training set but low accuracy on the validation set implies overfitting."
   ]
  },
  {
   "cell_type": "markdown",
   "metadata": {},
   "source": [
    "#### Features and Labels\n",
    "`x` is a placeholder for a batch of input images.\n",
    "`y` is a placeholder for a batch of output labels."
   ]
  },
  {
   "cell_type": "code",
   "execution_count": 71,
   "metadata": {},
   "outputs": [],
   "source": [
    "tf.reset_default_graph()\n",
    "x = tf.placeholder(tf.float32, (None, 32, 32, 1))\n",
    "y = tf.placeholder(tf.int32, (None))\n",
    "keep_prob = tf.placeholder(tf.float32) # probability to keep units\n",
    "one_hot_y = tf.one_hot(y, 43)"
   ]
  },
  {
   "cell_type": "markdown",
   "metadata": {},
   "source": [
    "#### Training Pipeline"
   ]
  },
  {
   "cell_type": "code",
   "execution_count": 72,
   "metadata": {},
   "outputs": [],
   "source": [
    "EPOCHS = 60\n",
    "BATCH_SIZE = 100\n",
    "rate = 0.001\n",
    "\n",
    "logits = Sortanet(x)\n",
    "cross_entropy = tf.nn.softmax_cross_entropy_with_logits(labels=one_hot_y, logits=logits)\n",
    "loss_operation = tf.reduce_mean(cross_entropy)\n",
    "optimizer = tf.train.AdamOptimizer(learning_rate = rate)\n",
    "training_operation = optimizer.minimize(loss_operation)"
   ]
  },
  {
   "cell_type": "markdown",
   "metadata": {},
   "source": [
    "#### Model Evaluation\n",
    "Evaluate how well the loss and accuracy of the model for a given dataset."
   ]
  },
  {
   "cell_type": "code",
   "execution_count": 73,
   "metadata": {},
   "outputs": [],
   "source": [
    "correct_prediction = tf.equal(tf.argmax(logits, 1), tf.argmax(one_hot_y, 1))\n",
    "accuracy_operation = tf.reduce_mean(tf.cast(correct_prediction, tf.float32))\n",
    "saver = tf.train.Saver()\n",
    "\n",
    "def evaluate(X_data, y_data):\n",
    "    num_examples = len(X_data)\n",
    "    total_accuracy = 0\n",
    "    sess = tf.get_default_session()\n",
    "    for offset in range(0, num_examples, BATCH_SIZE):\n",
    "        batch_x, batch_y = X_data[offset:offset+BATCH_SIZE], y_data[offset:offset+BATCH_SIZE]\n",
    "        accuracy = sess.run(accuracy_operation, feed_dict={x: batch_x, y: batch_y, keep_prob: 1.0})\n",
    "        total_accuracy += (accuracy * len(batch_x))\n",
    "    return total_accuracy / num_examples"
   ]
  },
  {
   "cell_type": "markdown",
   "metadata": {},
   "source": [
    "#### Train the Model\n",
    "Run the training data through the training pipeline to train the model.\n",
    "\n",
    "Before each epoch, shuffle the training set.\n",
    "\n",
    "After each epoch, measure the loss and accuracy of the validation set.\n",
    "\n",
    "Save the model after training."
   ]
  },
  {
   "cell_type": "code",
   "execution_count": 74,
   "metadata": {},
   "outputs": [
    {
     "name": "stdout",
     "output_type": "stream",
     "text": [
      "Training...\n",
      "\n",
      "EPOCH 1 ...\n",
      "Validation Accuracy = 0.846\n",
      "\n",
      "EPOCH 2 ...\n",
      "Validation Accuracy = 0.880\n",
      "\n",
      "EPOCH 3 ...\n",
      "Validation Accuracy = 0.903\n",
      "\n",
      "EPOCH 4 ...\n",
      "Validation Accuracy = 0.922\n",
      "\n",
      "EPOCH 5 ...\n",
      "Validation Accuracy = 0.927\n",
      "\n",
      "EPOCH 6 ...\n",
      "Validation Accuracy = 0.929\n",
      "\n",
      "EPOCH 7 ...\n",
      "Validation Accuracy = 0.935\n",
      "\n",
      "EPOCH 8 ...\n",
      "Validation Accuracy = 0.930\n",
      "\n",
      "EPOCH 9 ...\n",
      "Validation Accuracy = 0.934\n",
      "\n",
      "EPOCH 10 ...\n",
      "Validation Accuracy = 0.944\n",
      "\n",
      "EPOCH 11 ...\n",
      "Validation Accuracy = 0.941\n",
      "\n",
      "EPOCH 12 ...\n",
      "Validation Accuracy = 0.938\n",
      "\n",
      "EPOCH 13 ...\n",
      "Validation Accuracy = 0.946\n",
      "\n",
      "EPOCH 14 ...\n",
      "Validation Accuracy = 0.947\n",
      "\n",
      "EPOCH 15 ...\n",
      "Validation Accuracy = 0.945\n",
      "\n",
      "EPOCH 16 ...\n",
      "Validation Accuracy = 0.943\n",
      "\n",
      "EPOCH 17 ...\n",
      "Validation Accuracy = 0.949\n",
      "\n",
      "EPOCH 18 ...\n",
      "Validation Accuracy = 0.948\n",
      "\n",
      "EPOCH 19 ...\n",
      "Validation Accuracy = 0.953\n",
      "\n",
      "EPOCH 20 ...\n",
      "Validation Accuracy = 0.946\n",
      "\n",
      "EPOCH 21 ...\n",
      "Validation Accuracy = 0.946\n",
      "\n",
      "EPOCH 22 ...\n",
      "Validation Accuracy = 0.944\n",
      "\n",
      "EPOCH 23 ...\n",
      "Validation Accuracy = 0.947\n",
      "\n",
      "EPOCH 24 ...\n",
      "Validation Accuracy = 0.950\n",
      "\n",
      "EPOCH 25 ...\n",
      "Validation Accuracy = 0.946\n",
      "\n",
      "EPOCH 26 ...\n",
      "Validation Accuracy = 0.949\n",
      "\n",
      "EPOCH 27 ...\n",
      "Validation Accuracy = 0.944\n",
      "\n",
      "EPOCH 28 ...\n",
      "Validation Accuracy = 0.951\n",
      "\n",
      "EPOCH 29 ...\n",
      "Validation Accuracy = 0.950\n",
      "\n",
      "EPOCH 30 ...\n",
      "Validation Accuracy = 0.962\n",
      "\n",
      "EPOCH 31 ...\n",
      "Validation Accuracy = 0.956\n",
      "\n",
      "EPOCH 32 ...\n",
      "Validation Accuracy = 0.952\n",
      "\n",
      "EPOCH 33 ...\n",
      "Validation Accuracy = 0.952\n",
      "\n",
      "EPOCH 34 ...\n",
      "Validation Accuracy = 0.955\n",
      "\n",
      "EPOCH 35 ...\n",
      "Validation Accuracy = 0.944\n",
      "\n",
      "EPOCH 36 ...\n",
      "Validation Accuracy = 0.949\n",
      "\n",
      "EPOCH 37 ...\n",
      "Validation Accuracy = 0.954\n",
      "\n",
      "EPOCH 38 ...\n",
      "Validation Accuracy = 0.955\n",
      "\n",
      "EPOCH 39 ...\n",
      "Validation Accuracy = 0.949\n",
      "\n",
      "EPOCH 40 ...\n",
      "Validation Accuracy = 0.958\n",
      "\n",
      "EPOCH 41 ...\n",
      "Validation Accuracy = 0.951\n",
      "\n",
      "EPOCH 42 ...\n",
      "Validation Accuracy = 0.956\n",
      "\n",
      "EPOCH 43 ...\n",
      "Validation Accuracy = 0.950\n",
      "\n",
      "EPOCH 44 ...\n",
      "Validation Accuracy = 0.956\n",
      "\n",
      "EPOCH 45 ...\n",
      "Validation Accuracy = 0.952\n",
      "\n",
      "EPOCH 46 ...\n",
      "Validation Accuracy = 0.955\n",
      "\n",
      "EPOCH 47 ...\n",
      "Validation Accuracy = 0.957\n",
      "\n",
      "EPOCH 48 ...\n",
      "Validation Accuracy = 0.958\n",
      "\n",
      "EPOCH 49 ...\n",
      "Validation Accuracy = 0.958\n",
      "\n",
      "EPOCH 50 ...\n",
      "Validation Accuracy = 0.953\n",
      "\n",
      "EPOCH 51 ...\n",
      "Validation Accuracy = 0.958\n",
      "\n",
      "EPOCH 52 ...\n",
      "Validation Accuracy = 0.959\n",
      "\n",
      "EPOCH 53 ...\n",
      "Validation Accuracy = 0.958\n",
      "\n",
      "EPOCH 54 ...\n",
      "Validation Accuracy = 0.948\n",
      "\n",
      "EPOCH 55 ...\n",
      "Validation Accuracy = 0.945\n",
      "\n",
      "EPOCH 56 ...\n",
      "Validation Accuracy = 0.954\n",
      "\n",
      "EPOCH 57 ...\n",
      "Validation Accuracy = 0.957\n",
      "\n",
      "EPOCH 58 ...\n",
      "Validation Accuracy = 0.951\n",
      "\n",
      "EPOCH 59 ...\n",
      "Validation Accuracy = 0.948\n",
      "\n",
      "EPOCH 60 ...\n",
      "Validation Accuracy = 0.956\n",
      "\n",
      "Model saved\n"
     ]
    }
   ],
   "source": [
    "from sklearn.utils import shuffle\n",
    "\n",
    "with tf.Session() as sess:\n",
    "    sess.run(tf.global_variables_initializer())\n",
    "    num_examples = len(X_train)\n",
    "    \n",
    "    print(\"Training...\")\n",
    "    print()\n",
    "    for i in range(EPOCHS):\n",
    "        X_train, y_train = shuffle(X_train, y_train)\n",
    "        for offset in range(0, num_examples, BATCH_SIZE):\n",
    "            end = offset + BATCH_SIZE\n",
    "            batch_x, batch_y = X_train[offset:end], y_train[offset:end]\n",
    "            sess.run(training_operation, feed_dict={x: batch_x, y: batch_y, keep_prob: 0.5})\n",
    "            \n",
    "        validation_accuracy = evaluate(X_valid, y_valid)\n",
    "        print(\"EPOCH {} ...\".format(i+1))\n",
    "        print(\"Validation Accuracy = {:.3f}\".format(validation_accuracy))\n",
    "        print()\n",
    "        \n",
    "    saver.save(sess, './lenet')\n",
    "    print(\"Model saved\")"
   ]
  },
  {
   "cell_type": "markdown",
   "metadata": {},
   "source": [
    "### Test results\n",
    "The test set accuracy reached 94.5%, which is a little under the validation accuracy."
   ]
  },
  {
   "cell_type": "code",
   "execution_count": 75,
   "metadata": {},
   "outputs": [
    {
     "name": "stdout",
     "output_type": "stream",
     "text": [
      "INFO:tensorflow:Restoring parameters from ./lenet\n",
      "Test Set Accuracy = 0.945\n"
     ]
    }
   ],
   "source": [
    "with tf.Session() as sess:\n",
    "    sess.run(tf.global_variables_initializer())\n",
    "    saver2 = tf.train.import_meta_graph('./lenet.meta')\n",
    "    saver2.restore(sess, \"./lenet\")\n",
    "    test_accuracy = evaluate(X_test, y_test)\n",
    "    print(\"Test Set Accuracy = {:.3f}\".format(test_accuracy))"
   ]
  },
  {
   "cell_type": "markdown",
   "metadata": {},
   "source": [
    "---\n",
    "\n",
    "## Step 3: Test a Model on New Images\n",
    "\n",
    "To give yourself more insight into how your model is working, download at least five pictures of German traffic signs from the web and use your model to predict the traffic sign type.\n",
    "\n",
    "You may find `signnames.csv` useful as it contains mappings from the class id (integer) to the actual sign name."
   ]
  },
  {
   "cell_type": "markdown",
   "metadata": {},
   "source": [
    "### Load and Output the Images"
   ]
  },
  {
   "cell_type": "code",
   "execution_count": 76,
   "metadata": {},
   "outputs": [
    {
     "name": "stdout",
     "output_type": "stream",
     "text": [
      "./test_signs/100.png\n",
      "./test_signs/70.png\n",
      "./test_signs/dig.png\n",
      "./test_signs/no.png\n",
      "./test_signs/right.png\n"
     ]
    },
    {
     "data": {
      "image/png": "[encoded data removed]",
      "text/plain": [
       "<matplotlib.figure.Figure at 0x7f50dc027940>"
      ]
     },
     "metadata": {},
     "output_type": "display_data"
    }
   ],
   "source": [
    "from glob import glob\n",
    "import cv2 as cv\n",
    "import matplotlib.pyplot as plt\n",
    "import matplotlib.image as mpimg\n",
    "import numpy as np\n",
    "%matplotlib inline\n",
    "\n",
    "fig, axs = plt.subplots(5)\n",
    "fig.tight_layout()\n",
    "test_labels = [7, 4, 25, 15, 33]\n",
    "test_signs = []\n",
    "for i, path in enumerate(sorted(glob('./test_signs/*.png'))):\n",
    "    img = cv.imread(path)\n",
    "    print(path)\n",
    "    axs[i].axis('off')\n",
    "    axs[i].set_title('{0}: {1}'.format(test_labels[i], sign_dict['{0}'.format(test_labels[i])]))\n",
    "    axs[i].imshow(cv.cvtColor(img, cv.COLOR_BGR2RGB))\n",
    "    test_signs.append(img)\n",
    "test_signs = np.asarray(test_signs)\n",
    "test_signs = preprocess(test_signs)\n"
   ]
  },
  {
   "cell_type": "markdown",
   "metadata": {},
   "source": [
    "### Predict the Sign Type for Each Image"
   ]
  },
  {
   "cell_type": "code",
   "execution_count": 77,
   "metadata": {},
   "outputs": [
    {
     "name": "stdout",
     "output_type": "stream",
     "text": [
      "INFO:tensorflow:Restoring parameters from ./lenet\n"
     ]
    }
   ],
   "source": [
    "import tensorflow as tf\n",
    "\n",
    "with tf.Session() as sess:\n",
    "    sess.run(tf.global_variables_initializer())\n",
    "    saver2 = tf.train.import_meta_graph('./lenet.meta')\n",
    "    saver2.restore(sess, \"./lenet\")\n",
    "    prediction = tf.argmax(logits,1)\n",
    "    best = sess.run(prediction, feed_dict={x: test_signs, y: test_labels, keep_prob: 1})"
   ]
  },
  {
   "cell_type": "markdown",
   "metadata": {},
   "source": [
    "### Analyze Performance"
   ]
  },
  {
   "cell_type": "code",
   "execution_count": 78,
   "metadata": {},
   "outputs": [
    {
     "name": "stdout",
     "output_type": "stream",
     "text": [
      "[3, 4, 25, 15, 33]\n",
      "[7, 4, 25, 15, 33]\n",
      "80.0% accuracy\n"
     ]
    }
   ],
   "source": [
    "### Calculate the accuracy for these 5 new images. \n",
    "### For example, if the model predicted 1 out of 5 signs correctly, it's 20% accurate on these new images.\n",
    "correct = 0\n",
    "for i, n in enumerate(best):\n",
    "    if n == test_labels[i]:\n",
    "        correct += 1\n",
    "print(list(best))\n",
    "print(test_labels)\n",
    "print('{0}% accuracy'.format(correct / len(test_labels) * 100))"
   ]
  },
  {
   "cell_type": "markdown",
   "metadata": {},
   "source": [
    "### Output Top 5 Softmax Probabilities For Each Image Found on the Web"
   ]
  },
  {
   "cell_type": "markdown",
   "metadata": {},
   "source": [
    "For each of the new images, print out the model's softmax probabilities to show the **certainty** of the model's predictions (limit the output to the top 5 probabilities for each image). [`tf.nn.top_k`](https://www.tensorflow.org/versions/r0.12/api_docs/python/nn.html#top_k) could prove helpful here. \n",
    "\n",
    "The example below demonstrates how tf.nn.top_k can be used to find the top k predictions for each image.\n",
    "\n",
    "`tf.nn.top_k` will return the values and indices (class ids) of the top k predictions. So if k=3, for each sign, it'll return the 3 largest probabilities (out of a possible 43) and the correspoding class ids.\n",
    "\n",
    "Take this numpy array as an example. The values in the array represent predictions. The array contains softmax probabilities for five candidate images with six possible classes. `tf.nn.top_k` is used to choose the three classes with the highest probability:\n",
    "\n",
    "```\n",
    "# (5, 6) array\n",
    "a = np.array([[ 0.24879643,  0.07032244,  0.12641572,  0.34763842,  0.07893497,\n",
    "         0.12789202],\n",
    "       [ 0.28086119,  0.27569815,  0.08594638,  0.0178669 ,  0.18063401,\n",
    "         0.15899337],\n",
    "       [ 0.26076848,  0.23664738,  0.08020603,  0.07001922,  0.1134371 ,\n",
    "         0.23892179],\n",
    "       [ 0.11943333,  0.29198961,  0.02605103,  0.26234032,  0.1351348 ,\n",
    "         0.16505091],\n",
    "       [ 0.09561176,  0.34396535,  0.0643941 ,  0.16240774,  0.24206137,\n",
    "         0.09155967]])\n",
    "```\n",
    "\n",
    "Running it through `sess.run(tf.nn.top_k(tf.constant(a), k=3))` produces:\n",
    "\n",
    "```\n",
    "TopKV2(values=array([[ 0.34763842,  0.24879643,  0.12789202],\n",
    "       [ 0.28086119,  0.27569815,  0.18063401],\n",
    "       [ 0.26076848,  0.23892179,  0.23664738],\n",
    "       [ 0.29198961,  0.26234032,  0.16505091],\n",
    "       [ 0.34396535,  0.24206137,  0.16240774]]), indices=array([[3, 0, 5],\n",
    "       [0, 1, 4],\n",
    "       [0, 5, 1],\n",
    "       [1, 3, 5],\n",
    "       [1, 4, 3]], dtype=int32))\n",
    "```\n",
    "\n",
    "Looking just at the first row we get `[ 0.34763842,  0.24879643,  0.12789202]`, you can confirm these are the 3 largest probabilities in `a`. You'll also notice `[3, 0, 5]` are the corresponding indices."
   ]
  },
  {
   "cell_type": "code",
   "execution_count": 79,
   "metadata": {},
   "outputs": [
    {
     "name": "stdout",
     "output_type": "stream",
     "text": [
      "INFO:tensorflow:Restoring parameters from ./lenet\n"
     ]
    }
   ],
   "source": [
    "### Print out the top five softmax probabilities for the predictions on the German traffic sign images found on the web. \n",
    "### Feel free to use as many code cells as needed.\n",
    "softmax_logits = tf.nn.softmax(logits)\n",
    "top_k = tf.nn.top_k(softmax_logits, k=5)\n",
    "with tf.Session() as sess:\n",
    "    sess.run(tf.global_variables_initializer())\n",
    "    saver2 = tf.train.import_meta_graph('./lenet.meta')\n",
    "    saver2.restore(sess, \"./lenet\")\n",
    "    res = sess.run(top_k, feed_dict={x: test_signs, y: test_labels, keep_prob: 1})"
   ]
  },
  {
   "cell_type": "code",
   "execution_count": 80,
   "metadata": {},
   "outputs": [
    {
     "data": {
      "image/png": "[encoded data removed]",
      "text/plain": [
       "<matplotlib.figure.Figure at 0x7f5050513ef0>"
      ]
     },
     "metadata": {},
     "output_type": "display_data"
    }
   ],
   "source": [
    "fig, axs = plt.subplots(2,5, figsize=(10,10))\n",
    "\n",
    "for i, path in enumerate(sorted(glob('./test_signs/*.png'))):\n",
    "    img = cv.imread(path)\n",
    "    axs[0,i].axis('off')\n",
    "    axs[0,i].set_title('{0}: {1}'.format(test_labels[i], sign_dict['{0}'.format(test_labels[i])]))\n",
    "    axs[0,i].imshow(cv.cvtColor(img, cv.COLOR_BGR2RGB))\n",
    "    axs[1,i].set_title('Top 5 predictions'.format(test_labels[i], sign_dict['{0}'.format(test_labels[i])]))\n",
    "    axs[1,i].barh([str(x) for x in res.indices[i]], res.values[i])"
   ]
  },
  {
   "cell_type": "markdown",
   "metadata": {},
   "source": [
    "### Project Writeup\n",
    "\n",
    "Once you have completed the code implementation, document your results in a project writeup using this [template](https://github.com/udacity/CarND-Traffic-Sign-Classifier-Project/blob/master/writeup_template.md) as a guide. The writeup can be in a markdown or pdf file. "
   ]
  },
  {
   "cell_type": "markdown",
   "metadata": {},
   "source": [
    "> **Note**: Once you have completed all of the code implementations and successfully answered each question above, you may finalize your work by exporting the iPython Notebook as an HTML document. You can do this by using the menu above and navigating to  \\n\",\n",
    "    \"**File -> Download as -> HTML (.html)**. Include the finished document along with this notebook as your submission."
   ]
  },
  {
   "cell_type": "markdown",
   "metadata": {},
   "source": [
    "---\n",
    "\n",
    "## Step 4 (Optional): Visualize the Neural Network's State with Test Images\n",
    "\n",
    " This Section is not required to complete but acts as an additional excersise for understaning the output of a neural network's weights. While neural networks can be a great learning device they are often referred to as a black box. We can understand what the weights of a neural network look like better by plotting their feature maps. After successfully training your neural network you can see what it's feature maps look like by plotting the output of the network's weight layers in response to a test stimuli image. From these plotted feature maps, it's possible to see what characteristics of an image the network finds interesting. For a sign, maybe the inner network feature maps react with high activation to the sign's boundary outline or to the contrast in the sign's painted symbol.\n",
    "\n",
    " Provided for you below is the function code that allows you to get the visualization output of any tensorflow weight layer you want. The inputs to the function should be a stimuli image, one used during training or a new one you provided, and then the tensorflow variable name that represents the layer's state during the training process, for instance if you wanted to see what the [LeNet lab's](https://classroom.udacity.com/nanodegrees/nd013/parts/fbf77062-5703-404e-b60c-95b78b2f3f9e/modules/6df7ae49-c61c-4bb2-a23e-6527e69209ec/lessons/601ae704-1035-4287-8b11-e2c2716217ad/concepts/d4aca031-508f-4e0b-b493-e7b706120f81) feature maps looked like for it's second convolutional layer you could enter conv2 as the tf_activation variable.\n",
    "\n",
    "For an example of what feature map outputs look like, check out NVIDIA's results in their paper [End-to-End Deep Learning for Self-Driving Cars](https://devblogs.nvidia.com/parallelforall/deep-learning-self-driving-cars/) in the section Visualization of internal CNN State. NVIDIA was able to show that their network's inner weights had high activations to road boundary lines by comparing feature maps from an image with a clear path to one without. Try experimenting with a similar test to show that your trained network's weights are looking for interesting features, whether it's looking at differences in feature maps from images with or without a sign, or even what feature maps look like in a trained network vs a completely untrained one on the same sign image.\n",
    "\n",
    "<figure>\n",
    " <img src=\"visualize_cnn.png\" width=\"380\" alt=\"Combined Image\" />\n",
    " <figcaption>\n",
    " <p></p> \n",
    " <p style=\"text-align: center;\"> Your output should look something like this (above)</p> \n",
    " </figcaption>\n",
    "</figure>\n",
    " <p></p> \n"
   ]
  },
  {
   "cell_type": "code",
   "execution_count": null,
   "metadata": {},
   "outputs": [],
   "source": [
    "### Visualize your network's feature maps here.\n",
    "### Feel free to use as many code cells as needed.\n",
    "\n",
    "# image_input: the test image being fed into the network to produce the feature maps\n",
    "# tf_activation: should be a tf variable name used during your training procedure that represents the calculated state of a specific weight layer\n",
    "# activation_min/max: can be used to view the activation contrast in more detail, by default matplot sets min and max to the actual min and max values of the output\n",
    "# plt_num: used to plot out multiple different weight feature map sets on the same block, just extend the plt number for each new feature map entry\n",
    "\n",
    "def outputFeatureMap(image_input, tf_activation, activation_min=-1, activation_max=-1 ,plt_num=1):\n",
    "    # Here make sure to preprocess your image_input in a way your network expects\n",
    "    # with size, normalization, ect if needed\n",
    "    # image_input =\n",
    "    # Note: x should be the same name as your network's tensorflow data placeholder variable\n",
    "    # If you get an error tf_activation is not defined it may be having trouble accessing the variable from inside a function\n",
    "    activation = tf_activation.eval(session=sess,feed_dict={x : image_input})\n",
    "    featuremaps = activation.shape[3]\n",
    "    plt.figure(plt_num, figsize=(15,15))\n",
    "    for featuremap in range(featuremaps):\n",
    "        plt.subplot(6,8, featuremap+1) # sets the number of feature maps to show on each row and column\n",
    "        plt.title('FeatureMap ' + str(featuremap)) # displays the feature map number\n",
    "        if activation_min != -1 & activation_max != -1:\n",
    "            plt.imshow(activation[0,:,:, featuremap], interpolation=\"nearest\", vmin =activation_min, vmax=activation_max, cmap=\"gray\")\n",
    "        elif activation_max != -1:\n",
    "            plt.imshow(activation[0,:,:, featuremap], interpolation=\"nearest\", vmax=activation_max, cmap=\"gray\")\n",
    "        elif activation_min !=-1:\n",
    "            plt.imshow(activation[0,:,:, featuremap], interpolation=\"nearest\", vmin=activation_min, cmap=\"gray\")\n",
    "        else:\n",
    "            plt.imshow(activation[0,:,:, featuremap], interpolation=\"nearest\", cmap=\"gray\")"
   ]
  }
 ],
 "metadata": {
  "anaconda-cloud": {},
  "kernelspec": {
   "display_name": "Python 3",
   "language": "python",
   "name": "python3"
  },
  "language_info": {
   "codemirror_mode": {
    "name": "ipython",
    "version": 3
   },
   "file_extension": ".py",
   "mimetype": "text/x-python",
   "name": "python",
   "nbconvert_exporter": "python",
   "pygments_lexer": "ipython3",
   "version": "3.6.3"
  }
 },
 "nbformat": 4,
 "nbformat_minor": 1
}
